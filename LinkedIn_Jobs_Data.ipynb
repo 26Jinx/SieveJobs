{
 "cells": [
  {
   "cell_type": "markdown",
   "metadata": {},
   "source": [
    "### Import packages"
   ]
  },
  {
   "cell_type": "code",
   "execution_count": 63,
   "metadata": {},
   "outputs": [],
   "source": [
    "from requests import get\n",
    "from requests.exceptions import RequestException\n",
    "from contextlib import closing\n",
    "from bs4 import BeautifulSoup\n",
    "import pandas as pd"
   ]
  },
  {
   "cell_type": "markdown",
   "metadata": {},
   "source": [
    "### Get webpage"
   ]
  },
  {
   "cell_type": "code",
   "execution_count": 3,
   "metadata": {},
   "outputs": [],
   "source": [
    "# get webpage\n",
    "def simple_get(url):\n",
    "    \n",
    "    try:\n",
    "        with closing(get(url, stream=True)) as resp:\n",
    "            if is_good_resp(resp):\n",
    "                return resp.content\n",
    "            else:\n",
    "                return None\n",
    "            \n",
    "    except RequestException as e:\n",
    "        log_error(f'Error during requsts to {url}: {str(e)}')\n",
    "        pass\n",
    "    \n",
    "def is_good_resp(resp):\n",
    "    \n",
    "    content_type = resp.headers['Content-Type'].lower()\n",
    "    return (resp.status_code == 200\n",
    "            and content_type is not None\n",
    "            and content_type.find('html') > -1)\n",
    "\n",
    "def log_error(e):\n",
    "    \n",
    "    print(e)\n",
    "    "
   ]
  },
  {
   "cell_type": "code",
   "execution_count": 4,
   "metadata": {},
   "outputs": [
    {
     "data": {
      "text/plain": [
       "107981"
      ]
     },
     "execution_count": 4,
     "metadata": {},
     "output_type": "execute_result"
    }
   ],
   "source": [
    "# search parameters Data Scientist jobs in Greater Los Angeles\n",
    "raw_html = simple_get('https://www.linkedin.com/jobs/search/?alertAction=viewjobs&geoId=90000049&keywords=data%20scientist&location=Los%20Angeles%20Metropolitan%20Area')\n",
    "len(raw_html)"
   ]
  },
  {
   "cell_type": "markdown",
   "metadata": {},
   "source": [
    "### Parse and filter using BeautifulSoup"
   ]
  },
  {
   "cell_type": "code",
   "execution_count": 5,
   "metadata": {
    "scrolled": true
   },
   "outputs": [],
   "source": [
    "# parse raw html\n",
    "html = BeautifulSoup(raw_html, 'html.parser')\n",
    "#print(html.prettify())"
   ]
  },
  {
   "cell_type": "code",
   "execution_count": 69,
   "metadata": {
    "scrolled": true
   },
   "outputs": [
    {
     "name": "stdout",
     "output_type": "stream",
     "text": [
      "[['Data Scientist', 'Jobot', 'Long Beach, CA, US', 'What can we do for you? We are looking for…. We combine the technical expertise with the experience gained over time, to produce the ...', 'https://www.linkedin.com/jobs/view/data-scientist-at-jobot-1561452494?refId=6afc739f-2481-446c-9510-e3c1066b931b&position=1&pageNum=0&trk=guest_job_search_job-result-card_result-card_full-click'], ['Senior Data Scientist', 'Jobspring Partners', 'Los Angeles, CA, US', 'What You Will Be Doing. What we are really looking for is someone ready to make an impact in their current role, a candidate to deliver ...', 'https://www.linkedin.com/jobs/view/senior-data-scientist-at-jobspring-partners-1541345160?refId=6afc739f-2481-446c-9510-e3c1066b931b&position=2&pageNum=0&trk=guest_job_search_job-result-card_result-card_full-click'], ['Data Scientist, Analytics', 'NEXT Trucking', 'Los Angeles, CA, US', 'Armed with experienced professionals from Amazon, Google, Facebook, Snap, and Salesforce, NEXT is seeking change agents who are excited ...', 'https://www.linkedin.com/jobs/view/data-scientist-analytics-at-next-trucking-1554422430?refId=6afc739f-2481-446c-9510-e3c1066b931b&position=3&pageNum=0&trk=guest_job_search_job-result-card_result-card_full-click'], ['Data Scientist - Operations Research', 'Beyond Limits', 'Glendale, California', 'Our technical team is looking for a specialist in Operations Research. We leverage this unparalleled innovation portfolio, along with ...', 'https://www.linkedin.com/jobs/view/data-scientist-operations-research-at-beyond-limits-1554437579?refId=6afc739f-2481-446c-9510-e3c1066b931b&position=4&pageNum=0&trk=guest_job_search_job-result-card_result-card_full-click'], ['Data Scientist - Legends of Runeterra', 'Riot Games', 'Los Angeles, CA, US', 'E.g. you may lead the design and implementation of recommendation systems that personalize the player experience, or build models that ...', 'https://www.linkedin.com/jobs/view/data-scientist-legends-of-runeterra-at-riot-games-1449537715?refId=6afc739f-2481-446c-9510-e3c1066b931b&position=5&pageNum=0&trk=guest_job_search_job-result-card_result-card_full-click'], ['Data Scientist', 'Quibi', 'Los Angeles, CA, US', 'Expert Python, Spark and SQL programming skills and experience writing code in a collaborative environment. Quibi is seeking data ...', 'https://www.linkedin.com/jobs/view/data-scientist-at-quibi-1563312511?refId=6afc739f-2481-446c-9510-e3c1066b931b&position=6&pageNum=0&trk=guest_job_search_job-result-card_result-card_full-click'], ['Data Scientist', 'Southern California Edison (SCE)', 'Rosemead, CA, US', 'The Data Scientist is responsible for developing and owning models, discovering insights, and identifying opportunities for SCE’s ...', 'https://www.linkedin.com/jobs/view/data-scientist-at-southern-california-edison-sce-1483793727?refId=6afc739f-2481-446c-9510-e3c1066b931b&position=7&pageNum=0&trk=guest_job_search_job-result-card_result-card_full-click'], ['Senior Data Scientist', 'GoodRx', 'Santa Monica, California, United States', 'GoodRx is looking for self-driven and motivated Data Scientists who bring diversity and add new perspectives to our growing team. We are ...', 'https://www.linkedin.com/jobs/view/senior-data-scientist-at-goodrx-1529879055?refId=6afc739f-2481-446c-9510-e3c1066b931b&position=8&pageNum=0&trk=guest_job_search_job-result-card_result-card_full-click'], ['Principal Data Scientist', 'Harnham', 'Greater Los Angeles Area', 'YOUR SKILLS AND EXPERIENCE. As a Principal Data Scientist, you can expect a base salary between $160,000 to $190,000 (based on experience...', 'https://www.linkedin.com/jobs/view/principal-data-scientist-at-harnham-1525333986?refId=6afc739f-2481-446c-9510-e3c1066b931b&position=9&pageNum=0&trk=guest_job_search_job-result-card_result-card_full-click'], ['Data Scientist', 'V-Soft Consulting Group, Inc.', 'Santa Monica, California', 'V-Soft Consulting is currently seeking a Data Scientist for our premier client in Santa Monica, CA. 4+ years of experience as a Data ...', 'https://www.linkedin.com/jobs/view/data-scientist-at-v-soft-consulting-group-inc-1578331032?refId=6afc739f-2481-446c-9510-e3c1066b931b&position=10&pageNum=0&trk=guest_job_search_job-result-card_result-card_full-click'], ['Data Scientist', 'Strategic People', 'Los Angeles, California', 'If you’re looking for a new challenge with the opportunity for growth we may just have the job for you! We’re looking for a hardworking...', 'https://www.linkedin.com/jobs/view/data-scientist-at-strategic-people-1555907576?refId=6afc739f-2481-446c-9510-e3c1066b931b&position=11&pageNum=0&trk=guest_job_search_job-result-card_result-card_full-click'], ['Data Scientist', 'Cognizant', 'Burbank, CA, US', 'We pride ourselves on having extensive experience working with clients in all major markets. Cognizant is recognized as a Military ...', 'https://www.linkedin.com/jobs/view/data-scientist-at-cognizant-1515148304?refId=6afc739f-2481-446c-9510-e3c1066b931b&position=12&pageNum=0&trk=guest_job_search_job-result-card_result-card_full-click'], ['SR. Data Scientist', 'DISYS', 'Santa Monica, California', 'The ideal candidate is adept at using large data sets to find opportunities for product and process optimization and can use models to ...', 'https://www.linkedin.com/jobs/view/sr-data-scientist-at-disys-1585722512?refId=6afc739f-2481-446c-9510-e3c1066b931b&position=13&pageNum=0&trk=guest_job_search_job-result-card_result-card_full-click'], ['Product Data Scientist - Engineering', 'Snap Inc.', 'Los Angeles, CA, US', 'We’re looking for a Data Scientist to join Snap Inc! Working closely alongside the engineering, product design and product management ...', 'https://www.linkedin.com/jobs/view/product-data-scientist-engineering-at-snap-inc-1550970406?refId=6afc739f-2481-446c-9510-e3c1066b931b&position=14&pageNum=0&trk=guest_job_search_job-result-card_result-card_full-click'], ['Senior Data Scientist', 'Intuit', 'Los Angeles, CA, US', 'The ideal candidate will bring deep expertise in predictive & behavioral modeling for risk management while enabling a great customer ...', 'https://www.linkedin.com/jobs/view/senior-data-scientist-at-intuit-1554493312?refId=6afc739f-2481-446c-9510-e3c1066b931b&position=15&pageNum=0&trk=guest_job_search_job-result-card_result-card_full-click'], ['Data Scientist', 'Green Dot Corporation', 'Pasadena, CA, US', 'You will primarily be responsible for leveraging statistical analysis to design and integrate models to support or automate decision ...', 'https://www.linkedin.com/jobs/view/data-scientist-at-green-dot-corporation-1525302602?refId=6afc739f-2481-446c-9510-e3c1066b931b&position=16&pageNum=0&trk=guest_job_search_job-result-card_result-card_full-click'], ['Data Scientist', 'FanAI Inc.', 'Santa Monica, California, United States', 'At FanAI, we’re looking for data professionals who can independently take technical projects from beginning to end through their full ...', 'https://www.linkedin.com/jobs/view/data-scientist-at-fanai-inc-1537414978?refId=6afc739f-2481-446c-9510-e3c1066b931b&position=17&pageNum=0&trk=guest_job_search_job-result-card_result-card_full-click'], ['Data Scientist', 'Niantic, Inc.', 'Los Angeles, CA, US', 'Our mission emphasizes seeking and hiring diverse voices, including those who are traditionally underrepresented in the technology ...', 'https://www.linkedin.com/jobs/view/data-scientist-at-niantic-inc-1561482337?refId=6afc739f-2481-446c-9510-e3c1066b931b&position=18&pageNum=0&trk=guest_job_search_job-result-card_result-card_full-click'], ['Data Scientist (Analytics)', 'Opendoor', 'Los Angeles, CA, US', 'We’re seeking an exceptional Data Scientist to join us to work on our core products such as our seller and buyer experiences, internal ...', 'https://www.linkedin.com/jobs/view/data-scientist-analytics-at-opendoor-1506520536?refId=6afc739f-2481-446c-9510-e3c1066b931b&position=19&pageNum=0&trk=guest_job_search_job-result-card_result-card_full-click'], ['Data Scientist', 'EDO', 'Los Angeles, CA, US', 'What You Will Do. What We Are Looking For. Interpersonal and communication skills to work on a small team. Experience with R or Python ...', 'https://www.linkedin.com/jobs/view/data-scientist-at-edo-1590690746?refId=6afc739f-2481-446c-9510-e3c1066b931b&position=20&pageNum=0&trk=guest_job_search_job-result-card_result-card_full-click'], ['Data Scientist', 'Sense360', 'Culver City, CA, US', 'We are looking for a Data Science leader who will be a strategic partner in our organization. Our ideal team member can do it all, is ...', 'https://www.linkedin.com/jobs/view/data-scientist-at-sense360-1592614223?refId=6afc739f-2481-446c-9510-e3c1066b931b&position=21&pageNum=0&trk=guest_job_search_job-result-card_result-card_full-click'], ['Data Scientist', 'Cedars-Sinai', 'Los Angeles, CA, US', 'Work with stakeholders throughout the organization including Doctors, Nurses and Administrators to solve clinical and operational ...', 'https://www.linkedin.com/jobs/view/data-scientist-at-cedars-sinai-1510824000?refId=6afc739f-2481-446c-9510-e3c1066b931b&position=22&pageNum=0&trk=guest_job_search_job-result-card_result-card_full-click'], ['Data Scientist', 'Conversion Logic', 'Los Angeles, CA, US', 'What You Will Need... Our Data Science team is seeking a Data Scientist to help them drive R&D in advanced attribution modeling and ...', 'https://www.linkedin.com/jobs/view/data-scientist-at-conversion-logic-1579614147?refId=6afc739f-2481-446c-9510-e3c1066b931b&position=23&pageNum=0&trk=guest_job_search_job-result-card_result-card_full-click'], ['Data Scientist', 'HospitalCareers.com', 'Los Angeles, CA, US', 'The Data Scientist is responsible for developing machine learning predictive analytics models by applying advanced statistical and ...', 'https://www.linkedin.com/jobs/view/data-scientist-at-hospitalcareers-com-1572336063?refId=6afc739f-2481-446c-9510-e3c1066b931b&position=24&pageNum=0&trk=guest_job_search_job-result-card_result-card_full-click'], ['Data Scientist', 'Career Movement', 'Venice, CA, US', 'Masters in Applied Mathematics, Statistics, Electrical Engineering, or Computer Science and 1+ year of professional experience as a Data ...', 'https://www.linkedin.com/jobs/view/data-scientist-at-career-movement-1477152768?refId=6afc739f-2481-446c-9510-e3c1066b931b&position=25&pageNum=0&trk=guest_job_search_job-result-card_result-card_full-click']]\n"
     ]
    }
   ],
   "source": [
    "# find all job listing titles\n",
    "job_list = html.find_all(class_='result-card job-result-card result-card--with-hover-state')\n",
    "#print(job_list)\n",
    "\n",
    "sieved_list = []\n",
    "\n",
    "for job in job_list:\n",
    "    title = job.find('h3').get_text()\n",
    "    company = job.find('h4').get_text()\n",
    "    location = job.find(class_='job-result-card__location').get_text()\n",
    "    description = job.find('p').get_text()\n",
    "    link = job.find('a').get('href')\n",
    "    \n",
    "    sieved_job = [title, company, location, description, link]\n",
    "    sieved_list.append(sieved_job)\n",
    "    \n",
    "print(sieved_list)\n",
    "\n"
   ]
  },
  {
   "cell_type": "code",
   "execution_count": null,
   "metadata": {},
   "outputs": [],
   "source": [
    "# this only gets the first results page. we need to repeat for all pages\n"
   ]
  },
  {
   "cell_type": "code",
   "execution_count": 71,
   "metadata": {},
   "outputs": [
    {
     "data": {
      "text/html": [
       "<div>\n",
       "<style scoped>\n",
       "    .dataframe tbody tr th:only-of-type {\n",
       "        vertical-align: middle;\n",
       "    }\n",
       "\n",
       "    .dataframe tbody tr th {\n",
       "        vertical-align: top;\n",
       "    }\n",
       "\n",
       "    .dataframe thead th {\n",
       "        text-align: right;\n",
       "    }\n",
       "</style>\n",
       "<table border=\"1\" class=\"dataframe\">\n",
       "  <thead>\n",
       "    <tr style=\"text-align: right;\">\n",
       "      <th></th>\n",
       "      <th>title</th>\n",
       "      <th>company</th>\n",
       "      <th>location</th>\n",
       "      <th>description</th>\n",
       "      <th>link</th>\n",
       "    </tr>\n",
       "  </thead>\n",
       "  <tbody>\n",
       "    <tr>\n",
       "      <th>0</th>\n",
       "      <td>Data Scientist</td>\n",
       "      <td>Jobot</td>\n",
       "      <td>Long Beach, CA, US</td>\n",
       "      <td>What can we do for you? We are looking for…. W...</td>\n",
       "      <td>https://www.linkedin.com/jobs/view/data-scient...</td>\n",
       "    </tr>\n",
       "    <tr>\n",
       "      <th>1</th>\n",
       "      <td>Senior Data Scientist</td>\n",
       "      <td>Jobspring Partners</td>\n",
       "      <td>Los Angeles, CA, US</td>\n",
       "      <td>What You Will Be Doing. What we are really loo...</td>\n",
       "      <td>https://www.linkedin.com/jobs/view/senior-data...</td>\n",
       "    </tr>\n",
       "    <tr>\n",
       "      <th>2</th>\n",
       "      <td>Data Scientist, Analytics</td>\n",
       "      <td>NEXT Trucking</td>\n",
       "      <td>Los Angeles, CA, US</td>\n",
       "      <td>Armed with experienced professionals from Amaz...</td>\n",
       "      <td>https://www.linkedin.com/jobs/view/data-scient...</td>\n",
       "    </tr>\n",
       "    <tr>\n",
       "      <th>3</th>\n",
       "      <td>Data Scientist - Operations Research</td>\n",
       "      <td>Beyond Limits</td>\n",
       "      <td>Glendale, California</td>\n",
       "      <td>Our technical team is looking for a specialist...</td>\n",
       "      <td>https://www.linkedin.com/jobs/view/data-scient...</td>\n",
       "    </tr>\n",
       "    <tr>\n",
       "      <th>4</th>\n",
       "      <td>Data Scientist - Legends of Runeterra</td>\n",
       "      <td>Riot Games</td>\n",
       "      <td>Los Angeles, CA, US</td>\n",
       "      <td>E.g. you may lead the design and implementatio...</td>\n",
       "      <td>https://www.linkedin.com/jobs/view/data-scient...</td>\n",
       "    </tr>\n",
       "  </tbody>\n",
       "</table>\n",
       "</div>"
      ],
      "text/plain": [
       "                                   title             company  \\\n",
       "0                         Data Scientist               Jobot   \n",
       "1                  Senior Data Scientist  Jobspring Partners   \n",
       "2              Data Scientist, Analytics       NEXT Trucking   \n",
       "3   Data Scientist - Operations Research       Beyond Limits   \n",
       "4  Data Scientist - Legends of Runeterra          Riot Games   \n",
       "\n",
       "               location                                        description  \\\n",
       "0    Long Beach, CA, US  What can we do for you? We are looking for…. W...   \n",
       "1   Los Angeles, CA, US  What You Will Be Doing. What we are really loo...   \n",
       "2   Los Angeles, CA, US  Armed with experienced professionals from Amaz...   \n",
       "3  Glendale, California  Our technical team is looking for a specialist...   \n",
       "4   Los Angeles, CA, US  E.g. you may lead the design and implementatio...   \n",
       "\n",
       "                                                link  \n",
       "0  https://www.linkedin.com/jobs/view/data-scient...  \n",
       "1  https://www.linkedin.com/jobs/view/senior-data...  \n",
       "2  https://www.linkedin.com/jobs/view/data-scient...  \n",
       "3  https://www.linkedin.com/jobs/view/data-scient...  \n",
       "4  https://www.linkedin.com/jobs/view/data-scient...  "
      ]
     },
     "execution_count": 71,
     "metadata": {},
     "output_type": "execute_result"
    }
   ],
   "source": [
    "df = pd.DataFrame(sieved_list, columns=['title', 'company', 'location', 'description', 'link'])\n",
    "df.head()"
   ]
  },
  {
   "cell_type": "code",
   "execution_count": null,
   "metadata": {},
   "outputs": [],
   "source": []
  }
 ],
 "metadata": {
  "kernelspec": {
   "display_name": "Python 3",
   "language": "python",
   "name": "python3"
  },
  "language_info": {
   "codemirror_mode": {
    "name": "ipython",
    "version": 3
   },
   "file_extension": ".py",
   "mimetype": "text/x-python",
   "name": "python",
   "nbconvert_exporter": "python",
   "pygments_lexer": "ipython3",
   "version": "3.7.3"
  }
 },
 "nbformat": 4,
 "nbformat_minor": 2
}
